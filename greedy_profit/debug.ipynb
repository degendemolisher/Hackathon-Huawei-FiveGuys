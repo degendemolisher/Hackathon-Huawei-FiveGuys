{
 "cells": [
  {
   "cell_type": "code",
   "execution_count": null,
   "metadata": {},
   "outputs": [],
   "source": [
    "# SETUP DEBUG FLEET\n",
    "# (applies the first time step of actions in the example solution)\n",
    "\n",
    "# MOVE THIS FILE TO THE BASE DIRECTORY IF YOU WANT TO USE IT\n",
    "# or find a workaround for the error this throws in the greedy_profit dir\n",
    "from system_state import SystemState\n",
    "from utils import (load_problem_data,\n",
    "                   load_solution)\n",
    "\n",
    "solution = load_solution('./data/solution_example.json')\n",
    "demand, datacenters, servers, selling_prices = load_problem_data()\n",
    "\n",
    "state: SystemState = SystemState(datacenters=datacenters, servers=servers)\n",
    "\n",
    "first_time_step_actions = solution.set_index('time_step').loc[1].to_dict('records')\n",
    "state.update_state(first_time_step_actions)\n",
    "\n",
    "print(state.fleet)"
   ]
  },
  {
   "cell_type": "code",
   "execution_count": null,
   "metadata": {},
   "outputs": [],
   "source": [
    "# TESTING THE GREEDY PROFIT ALGORITHM/CALCULATING SERVERS TO BUY\n",
    "from evaluation import get_actual_demand\n",
    "from greedy_profit.helpers import get_unsatisfied_demand\n",
    "\n",
    "actual_demand = get_actual_demand(demand)\n",
    "unsatisfied_demand = get_unsatisfied_demand(actual_demand, state.fleet, 2)\n",
    "\n",
    "for server_generation in unsatisfied_demand.index.unique():\n",
    "    for latency_sensitivty in unsatisfied_demand.columns.unique():\n",
    "        selling_price = selling_prices\\\n",
    "            .set_index(['server_generation', 'latency_sensitivity'])\\\n",
    "            .loc[server_generation, latency_sensitivty]\n",
    "\n",
    "        d = unsatisfied_demand.loc[server_generation][latency_sensitivty]\n",
    "\n",
    "        print(f\"{server_generation}: {latency_sensitivty}: selling_price={selling_price}, demand={d}\")\n",
    "        print(f\"Number of servers to buy = {d / selling_price}\") # error\n",
    "\n"
   ]
  }
 ],
 "metadata": {
  "kernelspec": {
   "display_name": "Python 3",
   "language": "python",
   "name": "python3"
  },
  "language_info": {
   "codemirror_mode": {
    "name": "ipython",
    "version": 3
   },
   "file_extension": ".py",
   "mimetype": "text/x-python",
   "name": "python",
   "nbconvert_exporter": "python",
   "pygments_lexer": "ipython3",
   "version": "3.9.0"
  }
 },
 "nbformat": 4,
 "nbformat_minor": 2
}
