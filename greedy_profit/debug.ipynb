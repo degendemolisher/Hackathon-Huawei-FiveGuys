{
 "cells": [
  {
   "cell_type": "code",
   "execution_count": 2,
   "metadata": {},
   "outputs": [
    {
     "name": "stdout",
     "output_type": "stream",
     "text": [
      "    datacenter_id server_generation                             server_id  \\\n",
      "0             DC1            CPU.S1  7ee8a1de-b4b8-4fce-9bd6-19fdf8c1e409   \n",
      "1             DC1            CPU.S1  ed7946d9-6b09-4d58-85b7-be5c25437c1d   \n",
      "2             DC1            CPU.S1  0c2dd066-2628-4935-b540-3ab27a45e824   \n",
      "3             DC1            CPU.S1  fa4e5408-db94-4a08-92ca-7a81cda8b4c2   \n",
      "4             DC1            CPU.S1  1841c99d-8f0e-40d9-af28-72e485495d2c   \n",
      "..            ...               ...                                   ...   \n",
      "157           DC3            GPU.S1  5ffa6e3d-3d77-4951-8913-71168e307af4   \n",
      "158           DC3            GPU.S1  06cf58b9-adf0-4711-8812-468f8f4af732   \n",
      "159           DC4            GPU.S1  b16bbdf4-29bc-4aa4-ac72-6bd3ec5c26c8   \n",
      "160           DC4            GPU.S1  e8ab2d4f-87ee-41bb-b693-df4b208afcdc   \n",
      "161           DC4            GPU.S1  d7212382-cf13-4fa3-bdbc-0045d10dd1c8   \n",
      "\n",
      "     lifespan  life_expectancy latency_sensitivity  capacity  purchase_price  \\\n",
      "0           1               96                 low        60           15000   \n",
      "1           1               96                 low        60           15000   \n",
      "2           1               96                 low        60           15000   \n",
      "3           1               96                 low        60           15000   \n",
      "4           1               96                 low        60           15000   \n",
      "..        ...              ...                 ...       ...             ...   \n",
      "157         1               96                high         8          120000   \n",
      "158         1               96                high         8          120000   \n",
      "159         1               96                high         8          120000   \n",
      "160         1               96                high         8          120000   \n",
      "161         1               96                high         8          120000   \n",
      "\n",
      "     average_maintenance_fee  energy_consumption  cost_of_energy  moved  \n",
      "0                        288                 400            0.25      0  \n",
      "1                        288                 400            0.25      0  \n",
      "2                        288                 400            0.25      0  \n",
      "3                        288                 400            0.25      0  \n",
      "4                        288                 400            0.25      0  \n",
      "..                       ...                 ...             ...    ...  \n",
      "157                     2310                3000            0.65      0  \n",
      "158                     2310                3000            0.65      0  \n",
      "159                     2310                3000            0.75      0  \n",
      "160                     2310                3000            0.75      0  \n",
      "161                     2310                3000            0.75      0  \n",
      "\n",
      "[162 rows x 12 columns]\n"
     ]
    }
   ],
   "source": [
    "# SETUP DEBUG FLEET\n",
    "# (applies the first time step of actions in the example solution)\n",
    "\n",
    "# MOVE THIS FILE TO THE BASE DIRECTORY IF YOU WANT TO USE IT\n",
    "# or find a workaround for the error this throws in the greedy_profit dir\n",
    "from system_state import SystemState\n",
    "from utils import (load_problem_data,\n",
    "                   load_solution)\n",
    "\n",
    "solution = load_solution('./data/solution_example.json')\n",
    "demand, datacenters, servers, selling_prices = load_problem_data()\n",
    "\n",
    "state: SystemState = SystemState(datacenters=datacenters, servers=servers)\n",
    "\n",
    "first_time_step_actions = solution.set_index('time_step').loc[1].to_dict('records')\n",
    "state.update_state(first_time_step_actions)\n",
    "\n",
    "print(state.fleet)"
   ]
  },
  {
   "cell_type": "code",
   "execution_count": 3,
   "metadata": {},
   "outputs": [
    {
     "name": "stdout",
     "output_type": "stream",
     "text": [
      "                   low  medium  high\n",
      "server_generation                   \n",
      "CPU.S1             467    4849 -2004\n",
      "GPU.S1             -22      13    30\n"
     ]
    }
   ],
   "source": [
    "# UNSATISFIED DEMAND\n",
    "import math\n",
    "from evaluation import get_actual_demand, get_capacity_by_server_generation_latency_sensitivity, get_time_step_demand\n",
    "import numpy as np\n",
    "import pandas as pd\n",
    "\n",
    "actual_demand = get_actual_demand(demand)\n",
    "\n",
    "def get_unsatisfied_demand(actual_demand: pd.DataFrame, fleet: pd.DataFrame, time_step: int):\n",
    "    \"\"\"\n",
    "    Returns a DataFrame of server_generation index and columns for each latency sensitivity.\n",
    "    Unsatisfied demand is:\n",
    "    - Positive if there is more demand than the current server capacity can handle\n",
    "    - Negative if there is more current server capacity than the demand can consume\n",
    "    \"\"\"\n",
    "    current_demand = get_time_step_demand(actual_demand, time_step)\n",
    "    # print(current_demand) #DEBUG\n",
    "    \n",
    "    # The fleet is empty, so unsatisfied demand = all demand\n",
    "    if time_step == 1:\n",
    "        return current_demand\n",
    "    \n",
    "    capacity = get_capacity_by_server_generation_latency_sensitivity(fleet)\n",
    "    # print(capacity) #DEBUG\n",
    "\n",
    "    # current_server_count = fleet.groupby(by=['datacenter_id'])['server_id'].count() #DEBUG\n",
    "    # print(current_server_count) #DEBUG\n",
    "    # current_server_count = fleet.groupby(by=['server_generation'])['server_id'].count() #DEBUG\n",
    "    # print(current_server_count) #DEBUG\n",
    "    # current_server_count = fleet.groupby(by=['server_generation', 'datacenter_id'])['server_id'].count() #DEBUG\n",
    "    # print(current_server_count) #DEBUG\n",
    "\n",
    "    unsatisfied_demand = {}\n",
    "    relevant_server_generations = np.union1d(current_demand.index.unique(), capacity.index.unique())\n",
    "    for server_generation in relevant_server_generations:\n",
    "        unsatisfied_demand[server_generation] = {}\n",
    "        for latency_sensitivity in np.array(['low', 'medium', 'high']):\n",
    "\n",
    "            if server_generation in current_demand.index.unique():\n",
    "                this_demand = current_demand.loc[server_generation][latency_sensitivity]\n",
    "            else:\n",
    "                this_demand = 0\n",
    "\n",
    "            if server_generation in capacity.index.unique():\n",
    "                this_capacity = capacity.loc[server_generation][latency_sensitivity]\n",
    "            else:\n",
    "                this_capacity = 0\n",
    "\n",
    "            unsatisfied_demand[server_generation][latency_sensitivity] = this_demand - this_capacity\n",
    "        \n",
    "    unsatisfied_demand = pd.DataFrame(unsatisfied_demand).transpose().rename_axis('server_generation')\n",
    "    return unsatisfied_demand\n",
    "\n",
    "unsatisfied_demand = get_unsatisfied_demand(actual_demand, state.fleet, 2)\n",
    "print(unsatisfied_demand)\n"
   ]
  },
  {
   "cell_type": "code",
   "execution_count": 4,
   "metadata": {},
   "outputs": [
    {
     "name": "stdout",
     "output_type": "stream",
     "text": [
      "                   low  medium  high\n",
      "server_generation                   \n",
      "CPU.S1              47     323   -80\n",
      "GPU.S1               0       0     0\n"
     ]
    }
   ],
   "source": [
    "# SERVERS TO BUY\n",
    "servers_to_buy = {}\n",
    "for server_generation in unsatisfied_demand.index.unique():\n",
    "    servers_to_buy[server_generation] = {}\n",
    "    for latency_sensitivty in unsatisfied_demand.columns.unique():\n",
    "        selling_price = selling_prices\\\n",
    "            .set_index(['server_generation', 'latency_sensitivity'])\\\n",
    "            .loc[server_generation, latency_sensitivty]['selling_price']\n",
    "\n",
    "        d = unsatisfied_demand.loc[server_generation][latency_sensitivty]\n",
    "\n",
    "        servers_to_buy[server_generation][latency_sensitivty] = round(d / selling_price)\n",
    "\n",
    "        # print(f\"{server_generation}: {latency_sensitivty}: selling_price={selling_price}, demand={d}\")\n",
    "        # print(f\"Number of servers to buy = {d / selling_price}\")\n",
    "servers_to_buy = pd.DataFrame(servers_to_buy).transpose().rename_axis('server_generation')\n",
    "print(servers_to_buy)"
   ]
  },
  {
   "cell_type": "code",
   "execution_count": 13,
   "metadata": {},
   "outputs": [
    {
     "name": "stdout",
     "output_type": "stream",
     "text": [
      "datacenter_id\n",
      "DC1    152\n",
      "DC2     92\n",
      "DC3     52\n",
      "DC4     52\n",
      "Name: slots_size, dtype: int64\n",
      "datacenter_id\n",
      "DC1    132\n",
      "DC2     92\n",
      "DC3     52\n",
      "DC4     52\n",
      "Name: slots_size, dtype: int64\n",
      "6892341839880453194\n"
     ]
    }
   ],
   "source": [
    "# BUY ACTIONS AND VALIDATION\n",
    "import random\n",
    "\n",
    "\n",
    "def dataframe_lookup(dataframe: pd.DataFrame, key_column: str, key_value: any, value_column: str):\n",
    "    return dataframe.query(f\"{key_column} == @key_value\")[value_column].iloc[0]\n",
    "\n",
    "slot_cost = dataframe_lookup(servers, 'server_generation', 'CPU.S1', 'slots_size')\n",
    "# print(slot_cost)\n",
    "\n",
    "latency_sensitivity = 'low'\n",
    "datacenter = datacenters.query('latency_sensitivity == @latency_sensitivity')\n",
    "# print(datacenter)\n",
    "\n",
    "no_of_servers = state.fleet.groupby(by=['datacenter_id'])['server_id'].count()\n",
    "# print(no_of_servers)\n",
    "# print(no_of_servers['DC1'])\n",
    "\n",
    "max_slot_count = datacenters.set_index('datacenter_id')['slots_capacity']\n",
    "# print(max_slot_count)\n",
    "\n",
    "print(state.fleet.columns)\n",
    "fleet = state.fleet.merge(servers, how='outer', left_on='server_generation', right_on='server_generation')\n",
    "current_server_slot_count = fleet.groupby(by=['datacenter_id'])['slots_size'].sum()\n",
    "# print(current_server_slot_count)\n",
    "\n",
    "current_server_slot_count['DC1'] -= 20.0\n",
    "# print(current_server_slot_count)\n",
    "\n",
    "print(hash(random.randbytes(16)))"
   ]
  },
  {
   "cell_type": "code",
   "execution_count": 43,
   "metadata": {},
   "outputs": [
    {
     "name": "stdout",
     "output_type": "stream",
     "text": [
      "{'DC1': 573, 'DC2': 244, 'DC3': 374}\n",
      "TS 2: buy ->   DC1:573  DC2:244  DC3:374\n"
     ]
    }
   ],
   "source": [
    "# COMPLETE ALGORITHM\n",
    "\n",
    "from greedy_profit.buy_actions import get_buy_actions\n",
    "from greedy_profit.servers_to_buy import get_servers_to_buy\n",
    "from utils import save_json\n",
    "\n",
    "demand, datacenters, servers, selling_prices = load_problem_data()\n",
    "\n",
    "actual_demand = get_actual_demand(demand)\n",
    "action_list = []\n",
    "system_state = SystemState(datacenters, servers)\n",
    "system_state.update_state(first_time_step_actions)\n",
    "ts = 2\n",
    "\n",
    "#print(get_time_step_demand(actual_demand, ts))\n",
    "unsatisfied_demand = get_unsatisfied_demand(actual_demand, system_state.fleet, ts)\n",
    "#print(unsatisfied_demand)\n",
    "servers_to_buy = get_servers_to_buy(unsatisfied_demand)\n",
    "#print(servers_to_buy)\n",
    "buy_actions = get_buy_actions(servers_to_buy, system_state.fleet, ts)\n",
    "action_list.extend(buy_actions)\n",
    "\n",
    "buy_actions_df = pd.DataFrame(buy_actions)\n",
    "stats = buy_actions_df.groupby(by=['datacenter_id'])['server_id'].count().to_dict()\n",
    "print(stats)\n",
    "dc_buy_stat_message = \"\"\n",
    "for dc in stats:\n",
    "    dc_buy_stat_message = f\"{dc_buy_stat_message}  {dc}:{stats[dc]}\"\n",
    "\n",
    "print(f\"TS {ts}: buy -> {dc_buy_stat_message}\")\n",
    "\n",
    "save_json('./debug.json', action_list)"
   ]
  }
 ],
 "metadata": {
  "kernelspec": {
   "display_name": "Python 3",
   "language": "python",
   "name": "python3"
  },
  "language_info": {
   "codemirror_mode": {
    "name": "ipython",
    "version": 3
   },
   "file_extension": ".py",
   "mimetype": "text/x-python",
   "name": "python",
   "nbconvert_exporter": "python",
   "pygments_lexer": "ipython3",
   "version": "3.9.0"
  }
 },
 "nbformat": 4,
 "nbformat_minor": 2
}
