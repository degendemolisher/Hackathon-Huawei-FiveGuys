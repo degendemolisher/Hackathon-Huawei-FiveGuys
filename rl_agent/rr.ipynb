{
 "cells": [
  {
   "cell_type": "code",
   "execution_count": null,
   "metadata": {},
   "outputs": [],
   "source": [
    "from ortools.sat.python import cp_model\n",
    "import evaluation\n",
    "\n",
    "model = cp_model.CpModel()\n",
    "\n",
    "# Number of slots in each data center\n",
    "slots_dc1 = 10\n",
    "slots_dc2 = 8\n",
    "\n",
    "# Slots required by each type of server\n",
    "cpu_slots = 1\n",
    "gpu_slots = 2\n",
    "\n",
    "# Variables: Number of servers in each data center\n",
    "cpu_dc1 = model.NewIntVar(0, slots_dc1, 'cpu_dc1')\n",
    "gpu_dc1 = model.NewIntVar(0, slots_dc1 // gpu_slots, 'gpu_dc1')\n",
    "\n",
    "cpu_dc2 = model.NewIntVar(0, slots_dc2, 'cpu_dc2')\n",
    "gpu_dc2 = model.NewIntVar(0, slots_dc2 // gpu_slots, 'gpu_dc2')"
   ]
  },
  {
   "cell_type": "code",
   "execution_count": null,
   "metadata": {},
   "outputs": [],
   "source": [
    "# Constraints: Slot capacity in each data center\n",
    "model.Add(cpu_dc1 * cpu_slots + gpu_dc1 * gpu_slots <= slots_dc1)\n",
    "model.Add(cpu_dc2 * cpu_slots + gpu_dc2 * gpu_slots <= slots_dc2)"
   ]
  },
  {
   "cell_type": "code",
   "execution_count": null,
   "metadata": {},
   "outputs": [],
   "source": [
    "# Objective: Maximize the total number of servers\n",
    "model.Maximize(cpu_dc1 + gpu_dc1 + cpu_dc2 + gpu_dc2)"
   ]
  },
  {
   "cell_type": "code",
   "execution_count": null,
   "metadata": {},
   "outputs": [],
   "source": [
    "solver = cp_model.CpSolver()\n",
    "status = solver.Solve(model)\n",
    "\n",
    "if status == cp_model.OPTIMAL or status == cp_model.FEASIBLE:\n",
    "    print(f\"Optimal number of servers in DC1: CPU = {solver.Value(cpu_dc1)}, GPU = {solver.Value(gpu_dc1)}\")\n",
    "    print(f\"Optimal number of servers in DC2: CPU = {solver.Value(cpu_dc2)}, GPU = {solver.Value(gpu_dc2)}\")\n",
    "else:\n",
    "    print(\"No solution found.\")"
   ]
  },
  {
   "cell_type": "code",
   "execution_count": null,
   "metadata": {},
   "outputs": [],
   "source": [
    "#old fleet function\n",
    "def init_fleet(self):\n",
    "    fleet = {\"DC1\":{},\"DC2\":{},\"DC3\":{},\"DC4\":{}}\n",
    "    for i in fleet.keys():\n",
    "        for j in self.server_generations:\n",
    "            fleet[i].update(j, {})\n",
    "            fleet[i][j].update(\"servers\", [])\n",
    "            fleet[i][j].update(\"timestep_bought\", [])\n",
    "            fleet[i][j].update(\"total_owned\", 0)\n",
    "    return fleet"
   ]
  },
  {
   "cell_type": "code",
   "execution_count": null,
   "metadata": {},
   "outputs": [],
   "source": [
    "from stable_baselines3.common.env_checker import check_env\n",
    "env = CustomEnv()\n",
    "check_env(env)"
   ]
  }
 ],
 "metadata": {
  "kernelspec": {
   "display_name": "env",
   "language": "python",
   "name": "python3"
  },
  "language_info": {
   "name": "python",
   "version": "3.11.4"
  }
 },
 "nbformat": 4,
 "nbformat_minor": 2
}
