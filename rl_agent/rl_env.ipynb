{
 "cells": [
  {
   "cell_type": "code",
   "execution_count": 1,
   "metadata": {},
   "outputs": [],
   "source": [
    "import numpy as np\n",
    "from random import Random\n",
    "import gymnasium as gym\n",
    "from gymnasium import spaces"
   ]
  },
  {
   "cell_type": "code",
   "execution_count": 2,
   "metadata": {},
   "outputs": [
    {
     "data": {
      "text/plain": [
       "array([[[993356],\n",
       "        [722306],\n",
       "        [302180],\n",
       "        [ 25356],\n",
       "        [298505],\n",
       "        [930207],\n",
       "        [225658]],\n",
       "\n",
       "       [[103814],\n",
       "        [253767],\n",
       "        [432001],\n",
       "        [588556],\n",
       "        [185076],\n",
       "        [521808],\n",
       "        [ 72261]],\n",
       "\n",
       "       [[918886],\n",
       "        [881451],\n",
       "        [135637],\n",
       "        [840873],\n",
       "        [150207],\n",
       "        [896964],\n",
       "        [ 13812]],\n",
       "\n",
       "       [[873820],\n",
       "        [963651],\n",
       "        [ 26337],\n",
       "        [743862],\n",
       "        [302303],\n",
       "        [956577],\n",
       "        [347717]],\n",
       "\n",
       "       [[621197],\n",
       "        [293029],\n",
       "        [763479],\n",
       "        [422027],\n",
       "        [918408],\n",
       "        [515116],\n",
       "        [590117]],\n",
       "\n",
       "       [[951110],\n",
       "        [620455],\n",
       "        [891943],\n",
       "        [571796],\n",
       "        [355031],\n",
       "        [ 29805],\n",
       "        [888139]]], dtype=int32)"
      ]
     },
     "execution_count": 2,
     "metadata": {},
     "output_type": "execute_result"
    }
   ],
   "source": [
    "space = spaces.Box(low=0, high=1000000, shape=(6, 7, 1), dtype=np.int32)\n",
    "space.sample()"
   ]
  },
  {
   "cell_type": "code",
   "execution_count": 3,
   "metadata": {},
   "outputs": [],
   "source": [
    "from gymnasium.wrappers import FlattenObservation # type: ignore\n",
    "class CustomEnv(gym.Env):\n",
    "    def __init__(self):\n",
    "        super(DominoEnv, self).__init__()\n",
    "\n",
    "        \"\"\"\n",
    "        define self.actionspace and self.observation_space below using \n",
    "        variables available in \"gym.spaces\"\n",
    "        \"\"\"\n",
    "\n",
    "        #agent action space (actions it can make)\n",
    "        ##self.action_space = \n",
    "        \n",
    "        #agent observation space (what the agent can \"see\"/information that is fed to agent)\n",
    "        #a 3d array of latency, server_gen, demand, concatenated with \n",
    "        #a 3d array of latency, server_gen, supply\n",
    "        self.observation_space = spaces.Box(low=0, high=1000000, shape=(6, 7, 1), dtype=np.int32)\n",
    "\n",
    "    #might need func below to convert agent action into a relevant action\n",
    "    #def conv_agent_action_to_move(self, action):\n",
    "    \n",
    "    #returns mask for the action space based on possible plays\n",
    "    #def valid_action_mask(self):\n",
    "    \n",
    "    #initiallise/reset all of the base variables at the end of the \"game\"\n",
    "    #has to return a base/initial observation\n",
    "    def reset(self, seed=None, options=None):\n",
    "        self.done = False\n",
    "        return observation, {}\n",
    "\n",
    "    #called in a loop where each time it is called the agent chooses an action and change\n",
    "    #state of game appropriately according to agent action\n",
    "    def step(self, action):\n",
    "        \"\"\"\n",
    "        after agent move, do it, calc the new observation state\n",
    "        and the reward from that move it made, if \"end\" of game set self.done to True\n",
    "\n",
    "        \"\"\"\n",
    "        score = 0\n",
    "        reward = 0\n",
    "\n",
    "        #extra info on the game if wanted for yourself\n",
    "        info = {}\n",
    "        truncated = False\n",
    "        \n",
    "        #observation = \n",
    "\n",
    "        return (observation, reward, self.done, truncated, info)\n"
   ]
  },
  {
   "cell_type": "code",
   "execution_count": null,
   "metadata": {},
   "outputs": [],
   "source": []
  }
 ],
 "metadata": {
  "kernelspec": {
   "display_name": ".venv",
   "language": "python",
   "name": "python3"
  },
  "language_info": {
   "codemirror_mode": {
    "name": "ipython",
    "version": 3
   },
   "file_extension": ".py",
   "mimetype": "text/x-python",
   "name": "python",
   "nbconvert_exporter": "python",
   "pygments_lexer": "ipython3",
   "version": "3.9.6"
  }
 },
 "nbformat": 4,
 "nbformat_minor": 2
}
