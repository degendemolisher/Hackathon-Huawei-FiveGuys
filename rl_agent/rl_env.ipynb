{
 "cells": [
  {
   "cell_type": "code",
   "execution_count": 37,
   "metadata": {},
   "outputs": [],
   "source": [
    "import numpy as np\n",
    "from random import Random\n",
    "import pandas as pd\n",
    "import gymnasium as gym\n",
    "from gymnasium import spaces\n",
    "from seeds import known_seeds\n",
    "import evaluation\n",
    "from action import ActionSpace"
   ]
  },
  {
   "cell_type": "code",
   "execution_count": 38,
   "metadata": {},
   "outputs": [
    {
     "data": {
      "text/plain": [
       "array([[302172, 871533, 117545, 362815, 182033, 397766, 516639],\n",
       "       [322787, 161778, 468511, 664169, 906386, 545880, 574501],\n",
       "       [660425, 447849, 953794, 296499, 213196, 844293, 100144],\n",
       "       [565387, 589308, 741326, 678758, 553518, 873053, 353618],\n",
       "       [429161, 540517, 533817, 429609, 296815, 782600, 494890],\n",
       "       [227065, 603034, 593544, 984822,  66116, 610823,  74984]],\n",
       "      dtype=int32)"
      ]
     },
     "execution_count": 38,
     "metadata": {},
     "output_type": "execute_result"
    }
   ],
   "source": [
    "space = spaces.Box(low=0, high=1000000, shape=(6, 7), dtype=np.int32)\n",
    "space.sample()"
   ]
  },
  {
   "cell_type": "code",
   "execution_count": 39,
   "metadata": {},
   "outputs": [
    {
     "ename": "SyntaxError",
     "evalue": "invalid syntax (1906566020.py, line 89)",
     "output_type": "error",
     "traceback": [
      "\u001b[0;36m  Cell \u001b[0;32mIn[39], line 89\u001b[0;36m\u001b[0m\n\u001b[0;31m    move =\u001b[0m\n\u001b[0m           ^\u001b[0m\n\u001b[0;31mSyntaxError\u001b[0m\u001b[0;31m:\u001b[0m invalid syntax\n"
     ]
    }
   ],
   "source": [
    "from gymnasium.wrappers import FlattenObservation # type: ignore\n",
    "class CustomEnv(gym.Env):\n",
    "    def __init__(self):\n",
    "        super(DominoEnv, self).__init__()\n",
    "\n",
    "        \"\"\"\n",
    "        define self.actionspace and self.observation_space below using \n",
    "        variables available in \"gym.spaces\"\n",
    "        \"\"\"\n",
    "\n",
    "        #agent action space (actions it can make)\n",
    "        ##self.action_space = \n",
    "        \n",
    "        demand, self.datacenters, self.servers, self.selling_prices = load_problem_data()\n",
    "\n",
    "        #agent observation space (what the agent can \"see\"/information that is fed to agent)\n",
    "        #a 3d array of latency, server_gen, demand, concatenated with \n",
    "        #a 3d array of latency, server_gen, supply\n",
    "        self.observation_space = spaces.Box(low=0, high=1000000, shape=(6, 7), dtype=np.int32)\n",
    "\n",
    "        self.seeds_array = known_seeds(\"training\")\n",
    "        self.seed_counter = 0\n",
    "\n",
    "        self.server_generations = ['CPU.S1', 'CPU.S2', 'CPU.S3', 'CPU.S4', 'GPU.S1', 'GPU.S2', 'GPU.S3']\n",
    "        self.latencies = ['low', 'medium', 'high']\n",
    "        self.data_centers = ['DC1', 'DC2', 'DC3', 'DC4']\n",
    "\n",
    "    #might need func below to convert agent action into a relevant action\n",
    "    #def conv_agent_action_to_move(self, action):\n",
    "    \n",
    "    #returns mask for the action space based on possible plays\n",
    "    #def valid_action_mask(self):\n",
    "    \n",
    "    #initiallise/reset all of the base variables at the end of the \"game\"\n",
    "    #has to return a base/initial observation\n",
    "\n",
    "    def convert_demand_to_observation(self, demand):\n",
    "        demand_observation = np.zeros((3,7))\n",
    "        for i in len(self.latencies):\n",
    "            for j in len(self.server_generations):\n",
    "                demand_observation[i][j] = demand.query(\"latency_sensitivity == {self.latencies[i]}\")[self.server_generations[j]]\n",
    "        return demand_observation\n",
    "\n",
    "    def convert_fleet_to_observation(self, fleet):\n",
    "        observed_fleet = np.zeros((3,7))\n",
    "        for i in len(self.data_centers[0:3]):\n",
    "            for j in len(self.server_generations):\n",
    "                if(i == \"DC3\"):\n",
    "                    gen_total = fleet[i][j][\"total_owned\"]\n",
    "                    gen_total += fleet[\"DC4\"][j][\"total_owned\"]\n",
    "                else:\n",
    "                    gen_total = fleet[i][j][\"total_owned\"]\n",
    "                observed_fleet[i][j] = gen_total\n",
    "        return observed_fleet\n",
    "\n",
    "    def init_fleet(self):\n",
    "        fleet = {\"DC1\":{},\"DC2\":{},\"DC3\":{},\"DC4\":{}}\n",
    "        for i in fleet.keys():\n",
    "            for j in self.server_generations:\n",
    "                fleet[i].update(j, {})\n",
    "                fleet[i][j].update(\"total_owned\": 0)\n",
    "                fleet[i][j].update(\"timestep_bought\": 0)\n",
    "        return fleet\n",
    "\n",
    "    def reset(self, seed=None, options=None):\n",
    "        self.timestep = 1\n",
    "        self.seed_counter += 1\n",
    "        self.seed_counter %= 10\n",
    "        np.random.seed(self.seeds_array[self.seed_counter])\n",
    "\n",
    "        self.fleet = self.init_fleet()\n",
    "        self.full_demand = evaluation.get_actual_demand()\n",
    "        self.timestep_demand = self.full_demand.query(\"time_step == {self.timestep}\")\n",
    "        observation_demand = convert_demand_to_observation(self.timestep_demand)\n",
    "        observation_fleet = convert_fleet_to_observation(self.fleet)\n",
    "        observation = np.concatenate((observation_demand, observation_fleet))\n",
    "        self.done = False\n",
    "        return observation, {}\n",
    "\n",
    "    def buy_demand(self, datacenter, server_gen, timestep_demand):\n",
    "        self.fleet[datacenter][server_gen]\n",
    "\n",
    "    #called in a loop where each time it is called the agent chooses an action and change\n",
    "    #state of game appropriately according to agent action\n",
    "    def step(self, action):\n",
    "        \"\"\"\n",
    "        after agent move, do it, calc the new observation state\n",
    "        and the reward from that move it made, if \"end\" of game set self.done to True\n",
    "\n",
    "        \"\"\"\n",
    "        actions = ActionSpace.convert_actionspace_to_action(action)\n",
    "\n",
    "        self.timestep += 1\n",
    "        score = 0\n",
    "        reward = 0\n",
    "\n",
    "        #extra info on the game if wanted for yourself\n",
    "        info = {}\n",
    "        truncated = False\n",
    "        \n",
    "        #observation = \n",
    "\n",
    "        return (observation, reward, self.done, truncated, info)\n"
   ]
  },
  {
   "cell_type": "code",
   "execution_count": null,
   "metadata": {},
   "outputs": [],
   "source": []
  }
 ],
 "metadata": {
  "kernelspec": {
   "display_name": ".venv",
   "language": "python",
   "name": "python3"
  },
  "language_info": {
   "codemirror_mode": {
    "name": "ipython",
    "version": 3
   },
   "file_extension": ".py",
   "mimetype": "text/x-python",
   "name": "python",
   "nbconvert_exporter": "python",
   "pygments_lexer": "ipython3",
   "version": "3.9.6"
  }
 },
 "nbformat": 4,
 "nbformat_minor": 2
}
