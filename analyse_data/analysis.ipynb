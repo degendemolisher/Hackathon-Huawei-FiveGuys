{
 "cells": [
  {
   "cell_type": "code",
   "execution_count": null,
   "metadata": {},
   "outputs": [],
   "source": [
    "import numpy as np\n",
    "import matplotlib.pyplot as plt\n",
    "import pandas as pd\n",
    "#import pyspark as spark\n",
    "\n",
    "#read contents of csv into variables\n",
    "datacenters = pd.read_csv(\"../data/datacenters.csv\")\n",
    "demand = pd.read_csv(\"../data/demand.csv\")\n",
    "selling_prices = pd.read_csv(\"../data/selling_prices.csv\")\n",
    "servers = pd.read_csv(\"../data/servers.csv\")\n",
    "\n",
    "# print(datacenters)\n",
    "# print(demand)\n",
    "# print(selling_prices)\n",
    "# print(servers)"
   ]
  },
  {
   "cell_type": "code",
   "execution_count": null,
   "metadata": {},
   "outputs": [],
   "source": [
    "# calc total demand for cpu and gpu\n",
    "total_cpu_demand = demand[\"CPU.S1\"]+demand[\"CPU.S2\"]+demand[\"CPU.S3\"]+demand[\"CPU.S4\"]\n",
    "total_gpu_demand = demand[\"GPU.S1\"]+demand[\"GPU.S2\"]+demand[\"GPU.S3\"]\n",
    "\n",
    "if(\"total_cpu\" not in demand.columns):\n",
    "    demand.insert(len(demand.columns), \"total_cpu\", total_cpu_demand, True)\n",
    "if(\"total_gpu\" not in demand.columns):\n",
    "    demand.insert(len(demand.columns), \"total_gpu\", total_gpu_demand, True)\n",
    "\n",
    "print(demand.columns)"
   ]
  },
  {
   "cell_type": "markdown",
   "metadata": {},
   "source": [
    "# First look at demand changes"
   ]
  },
  {
   "cell_type": "code",
   "execution_count": null,
   "metadata": {},
   "outputs": [],
   "source": [
    "laten_sens_high = demand.loc[demand[\"latency_sensitivity\"] == \"high\"]\n",
    "laten_sens_med = demand.loc[demand[\"latency_sensitivity\"] == \"medium\"]\n",
    "laten_sens_low = demand.loc[demand[\"latency_sensitivity\"] == \"low\"]\n",
    "\n",
    "laten_sens_high_np = laten_sens_high.to_numpy()\n",
    "laten_sens_med_np = laten_sens_med.to_numpy()\n",
    "laten_sens_low_np = laten_sens_low.to_numpy()"
   ]
  },
  {
   "cell_type": "code",
   "execution_count": null,
   "metadata": {},
   "outputs": [],
   "source": [
    "fig, axs = plt.subplots(3, sharey=True)\n",
    "fig.suptitle(\"total CPU demand over timesteps\")\n",
    "axs[0].plot(laten_sens_high_np[:, 0], laten_sens_high_np[:, 9], color=\"r\")\n",
    "axs[1].plot(laten_sens_med_np[:, 0], laten_sens_med_np[:, 9], color=\"b\")\n",
    "axs[2].plot(laten_sens_low_np[:, 0], laten_sens_low_np[:, 9], color=\"g\")\n",
    "\n",
    "fig2, axs2 = plt.subplots(3, sharey=True)\n",
    "fig2.suptitle(\"total GPU demand over timesteps\")\n",
    "axs2[0].plot(laten_sens_high_np[:, 0], laten_sens_high_np[:, 10], color=\"r\")\n",
    "axs2[1].plot(laten_sens_med_np[:, 0], laten_sens_med_np[:, 10], color=\"b\")\n",
    "axs2[2].plot(laten_sens_low_np[:, 0], laten_sens_low_np[:, 10], color=\"g\")"
   ]
  },
  {
   "cell_type": "code",
   "execution_count": null,
   "metadata": {},
   "outputs": [],
   "source": [
    "# fig, axs = plt.subplots(3, sharey=True)\n",
    "# fig.suptitle(\"cpuS1 demand over timesteps\")\n",
    "# axs[0].plot(laten_sens_high_np[:, 0], laten_sens_high_np[:, 2], color=\"r\")\n",
    "# axs[1].plot(laten_sens_med_np[:, 0], laten_sens_med_np[:, 2], color=\"b\")\n",
    "# axs[2].plot(laten_sens_low_np[:, 0], laten_sens_low_np[:, 2], color=\"g\")\n",
    "\n",
    "# print(laten_sens_high)\n",
    "# print(laten_sens_med)\n",
    "# print(laten_sens_low)\n"
   ]
  },
  {
   "cell_type": "code",
   "execution_count": null,
   "metadata": {},
   "outputs": [],
   "source": [
    "import numpy as np\n",
    "import matplotlib.pyplot as plt\n",
    "from scipy.stats import weibull_min\n",
    "\n",
    "f_min = 0.05\n",
    "f_max = 0.1\n",
    "shape = 2\n",
    "scale = 1\n",
    "\n",
    "\n",
    "a = weibull_min.ppf(f_min, shape, scale=scale)\n",
    "b = weibull_min.ppf(f_max, shape, scale=scale)\n",
    "\n",
    "# Create the x-axis\n",
    "x = np.linspace(a, b, 100)\n",
    "\n",
    "# Calculate the truncated Weibull PDF\n",
    "pdf = weibull_min.pdf(x, shape, scale=scale)\n",
    "pdf_truncated = pdf / (weibull_min.cdf(b, shape, scale=scale) - weibull_min.cdf(a, shape, scale=scale))\n",
    "\n",
    "# Plot the distribution\n",
    "plt.figure(figsize=(8, 6))\n",
    "plt.plot(x, pdf_truncated)\n",
    "plt.xlabel('x')\n",
    "plt.ylabel('Probability Density Function')\n",
    "plt.title('Truncated Weibull Distribution')\n",
    "plt.show()"
   ]
  },
  {
   "cell_type": "code",
   "execution_count": null,
   "metadata": {},
   "outputs": [],
   "source": []
  }
 ],
 "metadata": {
  "kernelspec": {
   "display_name": ".venv",
   "language": "python",
   "name": "python3"
  },
  "language_info": {
   "codemirror_mode": {
    "name": "ipython",
    "version": 3
   },
   "file_extension": ".py",
   "mimetype": "text/x-python",
   "name": "python",
   "nbconvert_exporter": "python",
   "pygments_lexer": "ipython3",
   "version": "3.9.6"
  }
 },
 "nbformat": 4,
 "nbformat_minor": 2
}
