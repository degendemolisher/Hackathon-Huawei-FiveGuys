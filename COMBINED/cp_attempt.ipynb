{
 "cells": [
  {
   "cell_type": "code",
   "execution_count": 1,
   "metadata": {},
   "outputs": [
    {
     "ename": "ModuleNotFoundError",
     "evalue": "No module named 'evaluation'",
     "output_type": "error",
     "traceback": [
      "\u001b[0;31m---------------------------------------------------------------------------\u001b[0m",
      "\u001b[0;31mModuleNotFoundError\u001b[0m                       Traceback (most recent call last)",
      "Cell \u001b[0;32mIn[1], line 2\u001b[0m\n\u001b[1;32m      1\u001b[0m \u001b[38;5;28;01mfrom\u001b[39;00m \u001b[38;5;21;01mortools\u001b[39;00m\u001b[38;5;21;01m.\u001b[39;00m\u001b[38;5;21;01msat\u001b[39;00m\u001b[38;5;21;01m.\u001b[39;00m\u001b[38;5;21;01mpython\u001b[39;00m \u001b[38;5;28;01mimport\u001b[39;00m cp_model\n\u001b[0;32m----> 2\u001b[0m \u001b[38;5;28;01mimport\u001b[39;00m \u001b[38;5;21;01mevaluation\u001b[39;00m\n\u001b[1;32m      4\u001b[0m model \u001b[38;5;241m=\u001b[39m cp_model\u001b[38;5;241m.\u001b[39mCpModel()\n\u001b[1;32m      6\u001b[0m \u001b[38;5;66;03m# Number of slots in each data center\u001b[39;00m\n",
      "\u001b[0;31mModuleNotFoundError\u001b[0m: No module named 'evaluation'"
     ]
    }
   ],
   "source": [
    "from ortools.sat.python import cp_model\n",
    "\n",
    "\n",
    "model = cp_model.CpModel()\n",
    "\n",
    "# Number of slots in each data center\n",
    "slots_dc1 = 10\n",
    "slots_dc2 = 8\n",
    "\n",
    "# Slots required by each type of server\n",
    "cpu_slots = 1\n",
    "gpu_slots = 2\n",
    "\n",
    "# Variables: Number of servers in each data center\n",
    "cpu_dc1 = model.NewIntVar(0, slots_dc1, 'cpu_dc1')\n",
    "gpu_dc1 = model.NewIntVar(0, slots_dc1 // gpu_slots, 'gpu_dc1')\n",
    "\n",
    "cpu_dc2 = model.NewIntVar(0, slots_dc2, 'cpu_dc2')\n",
    "gpu_dc2 = model.NewIntVar(0, slots_dc2 // gpu_slots, 'gpu_dc2')"
   ]
  },
  {
   "cell_type": "code",
   "execution_count": null,
   "metadata": {},
   "outputs": [],
   "source": [
    "# Constraints: Slot capacity in each data center\n",
    "model.Add(cpu_dc1 * cpu_slots + gpu_dc1 * gpu_slots <= slots_dc1)\n",
    "model.Add(cpu_dc2 * cpu_slots + gpu_dc2 * gpu_slots <= slots_dc2)"
   ]
  },
  {
   "cell_type": "code",
   "execution_count": null,
   "metadata": {},
   "outputs": [],
   "source": [
    "# Objective: Maximize the total number of servers\n",
    "model.Maximize(cpu_dc1 + gpu_dc1 + cpu_dc2 + gpu_dc2)"
   ]
  },
  {
   "cell_type": "code",
   "execution_count": null,
   "metadata": {},
   "outputs": [],
   "source": [
    "solver = cp_model.CpSolver()\n",
    "status = solver.Solve(model)\n",
    "\n",
    "if status == cp_model.OPTIMAL or status == cp_model.FEASIBLE:\n",
    "    print(f\"Optimal number of servers in DC1: CPU = {solver.Value(cpu_dc1)}, GPU = {solver.Value(gpu_dc1)}\")\n",
    "    print(f\"Optimal number of servers in DC2: CPU = {solver.Value(cpu_dc2)}, GPU = {solver.Value(gpu_dc2)}\")\n",
    "else:\n",
    "    print(\"No solution found.\")"
   ]
  }
 ],
 "metadata": {
  "kernelspec": {
   "display_name": "env",
   "language": "python",
   "name": "python3"
  },
  "language_info": {
   "codemirror_mode": {
    "name": "ipython",
    "version": 3
   },
   "file_extension": ".py",
   "mimetype": "text/x-python",
   "name": "python",
   "nbconvert_exporter": "python",
   "pygments_lexer": "ipython3",
   "version": "3.11.4"
  }
 },
 "nbformat": 4,
 "nbformat_minor": 2
}
